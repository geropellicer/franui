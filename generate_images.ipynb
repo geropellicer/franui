{
 "cells": [
  {
   "cell_type": "code",
   "execution_count": 8,
   "metadata": {},
   "outputs": [
    {
     "name": "stdout",
     "output_type": "stream",
     "text": [
      "Marker 0 saved as ./markers_img/marker_0.png\n",
      "Marker 1 saved as ./markers_img/marker_1.png\n",
      "Marker 2 saved as ./markers_img/marker_2.png\n",
      "Marker 3 saved as ./markers_img/marker_3.png\n",
      "Marker 4 saved as ./markers_img/marker_4.png\n"
     ]
    }
   ],
   "source": [
    "import cv2\n",
    "\n",
    "# Initialize ArUco dictionary\n",
    "dictionary = cv2.aruco.getPredefinedDictionary(cv2.aruco.DICT_6X6_250)\n",
    "\n",
    "# Function to generate and save a single marker\n",
    "def generate_and_save_marker(marker_id, size=200, filename_prefix='marker_'):\n",
    "    # Generate the marker image\n",
    "    marker_image = cv2.aruco.generateImageMarker(dictionary, marker_id, size)\n",
    "    \n",
    "    # Save the marker to a file\n",
    "    filename = f\"./markers_img/{filename_prefix}{marker_id}.png\"\n",
    "    cv2.imwrite(filename, marker_image)\n",
    "    print(f\"Marker {marker_id} saved as {filename}\")\n",
    "\n",
    "\n",
    "for i in range(5):\n",
    "    # Generate and save marker\n",
    "    generate_and_save_marker(i)"
   ]
  },
  {
   "cell_type": "code",
   "execution_count": 2,
   "metadata": {},
   "outputs": [
    {
     "name": "stdout",
     "output_type": "stream",
     "text": [
      "4.10.0\n"
     ]
    }
   ],
   "source": [
    "print(cv2.__version__)\n"
   ]
  }
 ],
 "metadata": {
  "kernelspec": {
   "display_name": "franui-E9v20vpo",
   "language": "python",
   "name": "python3"
  },
  "language_info": {
   "codemirror_mode": {
    "name": "ipython",
    "version": 3
   },
   "file_extension": ".py",
   "mimetype": "text/x-python",
   "name": "python",
   "nbconvert_exporter": "python",
   "pygments_lexer": "ipython3",
   "version": "3.10.12"
  }
 },
 "nbformat": 4,
 "nbformat_minor": 2
}
